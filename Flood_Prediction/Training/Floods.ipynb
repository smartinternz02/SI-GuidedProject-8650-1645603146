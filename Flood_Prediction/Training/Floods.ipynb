{
 "cells": [
  {
   "cell_type": "code",
   "execution_count": 1,
   "metadata": {},
   "outputs": [],
   "source": [
    "!jt -t monokai"
   ]
  },
  {
   "cell_type": "code",
   "execution_count": 1,
   "metadata": {},
   "outputs": [],
   "source": [
    "#import required libraries\n",
    "import numpy as np #for dealing high demensional data\n",
    "import pandas as pd #to do statistical data analysis\n",
    "import matplotlib.pyplot as plt #for 2D visualization\n",
    "import seaborn as sns #High end data visualization\n",
    "\n"
   ]
  },
  {
   "cell_type": "code",
   "execution_count": 2,
   "metadata": {},
   "outputs": [
    {
     "data": {
      "text/plain": [
       "'C:\\\\Users\\\\acer\\\\Desktop\\\\Sreekath project\\\\Training'"
      ]
     },
     "execution_count": 2,
     "metadata": {},
     "output_type": "execute_result"
    }
   ],
   "source": [
    "pwd\n"
   ]
  },
  {
   "cell_type": "code",
   "execution_count": 3,
   "metadata": {},
   "outputs": [
    {
     "name": "stdout",
     "output_type": "stream",
     "text": [
      "C:\\Users\\acer\\Desktop\\Sreekath project\n"
     ]
    }
   ],
   "source": [
    "cd .."
   ]
  },
  {
   "cell_type": "code",
   "execution_count": 4,
   "metadata": {},
   "outputs": [
    {
     "name": "stdout",
     "output_type": "stream",
     "text": [
      "C:\\Users\\acer\\Desktop\\Sreekath project\\dataset\n"
     ]
    }
   ],
   "source": [
    "cd dataset"
   ]
  },
  {
   "cell_type": "code",
   "execution_count": 5,
   "metadata": {},
   "outputs": [],
   "source": [
    "#read the dataset\n",
    "dataset=pd.read_excel('flood dataset.xlsx')"
   ]
  },
  {
   "cell_type": "code",
   "execution_count": 6,
   "metadata": {
    "scrolled": true
   },
   "outputs": [
    {
     "data": {
      "text/html": [
       "<div>\n",
       "<style scoped>\n",
       "    .dataframe tbody tr th:only-of-type {\n",
       "        vertical-align: middle;\n",
       "    }\n",
       "\n",
       "    .dataframe tbody tr th {\n",
       "        vertical-align: top;\n",
       "    }\n",
       "\n",
       "    .dataframe thead th {\n",
       "        text-align: right;\n",
       "    }\n",
       "</style>\n",
       "<table border=\"1\" class=\"dataframe\">\n",
       "  <thead>\n",
       "    <tr style=\"text-align: right;\">\n",
       "      <th></th>\n",
       "      <th>Temp</th>\n",
       "      <th>Humidity</th>\n",
       "      <th>Cloud Cover</th>\n",
       "      <th>ANNUAL</th>\n",
       "      <th>Jan-Feb</th>\n",
       "      <th>Mar-May</th>\n",
       "      <th>Jun-Sep</th>\n",
       "      <th>Oct-Dec</th>\n",
       "      <th>avgjune</th>\n",
       "      <th>sub</th>\n",
       "      <th>flood</th>\n",
       "    </tr>\n",
       "  </thead>\n",
       "  <tbody>\n",
       "    <tr>\n",
       "      <th>0</th>\n",
       "      <td>29</td>\n",
       "      <td>70</td>\n",
       "      <td>30</td>\n",
       "      <td>3248.6</td>\n",
       "      <td>73.4</td>\n",
       "      <td>386.2</td>\n",
       "      <td>2122.8</td>\n",
       "      <td>666.1</td>\n",
       "      <td>274.866667</td>\n",
       "      <td>649.9</td>\n",
       "      <td>0</td>\n",
       "    </tr>\n",
       "    <tr>\n",
       "      <th>1</th>\n",
       "      <td>28</td>\n",
       "      <td>75</td>\n",
       "      <td>40</td>\n",
       "      <td>3326.6</td>\n",
       "      <td>9.3</td>\n",
       "      <td>275.7</td>\n",
       "      <td>2403.4</td>\n",
       "      <td>638.2</td>\n",
       "      <td>130.300000</td>\n",
       "      <td>256.4</td>\n",
       "      <td>1</td>\n",
       "    </tr>\n",
       "    <tr>\n",
       "      <th>2</th>\n",
       "      <td>28</td>\n",
       "      <td>75</td>\n",
       "      <td>42</td>\n",
       "      <td>3271.2</td>\n",
       "      <td>21.7</td>\n",
       "      <td>336.3</td>\n",
       "      <td>2343.0</td>\n",
       "      <td>570.1</td>\n",
       "      <td>186.200000</td>\n",
       "      <td>308.9</td>\n",
       "      <td>0</td>\n",
       "    </tr>\n",
       "    <tr>\n",
       "      <th>3</th>\n",
       "      <td>29</td>\n",
       "      <td>71</td>\n",
       "      <td>44</td>\n",
       "      <td>3129.7</td>\n",
       "      <td>26.7</td>\n",
       "      <td>339.4</td>\n",
       "      <td>2398.2</td>\n",
       "      <td>365.3</td>\n",
       "      <td>366.066667</td>\n",
       "      <td>862.5</td>\n",
       "      <td>0</td>\n",
       "    </tr>\n",
       "    <tr>\n",
       "      <th>4</th>\n",
       "      <td>31</td>\n",
       "      <td>74</td>\n",
       "      <td>40</td>\n",
       "      <td>2741.6</td>\n",
       "      <td>23.4</td>\n",
       "      <td>378.5</td>\n",
       "      <td>1881.5</td>\n",
       "      <td>458.1</td>\n",
       "      <td>283.400000</td>\n",
       "      <td>586.9</td>\n",
       "      <td>0</td>\n",
       "    </tr>\n",
       "  </tbody>\n",
       "</table>\n",
       "</div>"
      ],
      "text/plain": [
       "   Temp  Humidity  Cloud Cover  ANNUAL  Jan-Feb  Mar-May  Jun-Sep  Oct-Dec  \\\n",
       "0    29        70           30  3248.6     73.4    386.2   2122.8    666.1   \n",
       "1    28        75           40  3326.6      9.3    275.7   2403.4    638.2   \n",
       "2    28        75           42  3271.2     21.7    336.3   2343.0    570.1   \n",
       "3    29        71           44  3129.7     26.7    339.4   2398.2    365.3   \n",
       "4    31        74           40  2741.6     23.4    378.5   1881.5    458.1   \n",
       "\n",
       "      avgjune    sub  flood  \n",
       "0  274.866667  649.9      0  \n",
       "1  130.300000  256.4      1  \n",
       "2  186.200000  308.9      0  \n",
       "3  366.066667  862.5      0  \n",
       "4  283.400000  586.9      0  "
      ]
     },
     "execution_count": 6,
     "metadata": {},
     "output_type": "execute_result"
    }
   ],
   "source": [
    "#check the first 5 observations\n",
    "dataset.head()"
   ]
  },
  {
   "cell_type": "code",
   "execution_count": 7,
   "metadata": {},
   "outputs": [
    {
     "name": "stdout",
     "output_type": "stream",
     "text": [
      "(115, 11)\n"
     ]
    }
   ],
   "source": [
    "print(dataset.shape)"
   ]
  },
  {
   "cell_type": "code",
   "execution_count": 8,
   "metadata": {},
   "outputs": [
    {
     "name": "stdout",
     "output_type": "stream",
     "text": [
      "<class 'pandas.core.frame.DataFrame'>\n",
      "RangeIndex: 115 entries, 0 to 114\n",
      "Data columns (total 11 columns):\n",
      "Temp           115 non-null int64\n",
      "Humidity       115 non-null int64\n",
      "Cloud Cover    115 non-null int64\n",
      "ANNUAL         115 non-null float64\n",
      "Jan-Feb        115 non-null float64\n",
      "Mar-May        115 non-null float64\n",
      "Jun-Sep        115 non-null float64\n",
      "Oct-Dec        115 non-null float64\n",
      "avgjune        115 non-null float64\n",
      "sub            115 non-null float64\n",
      "flood          115 non-null int64\n",
      "dtypes: float64(7), int64(4)\n",
      "memory usage: 10.0 KB\n",
      "None\n"
     ]
    }
   ],
   "source": [
    "print(dataset.info())"
   ]
  },
  {
   "cell_type": "code",
   "execution_count": 9,
   "metadata": {},
   "outputs": [
    {
     "data": {
      "text/plain": [
       "Index(['Temp', 'Humidity', 'Cloud Cover', 'ANNUAL', 'Jan-Feb', 'Mar-May',\n",
       "       'Jun-Sep', 'Oct-Dec', 'avgjune', 'sub', 'flood'],\n",
       "      dtype='object')"
      ]
     },
     "execution_count": 9,
     "metadata": {},
     "output_type": "execute_result"
    }
   ],
   "source": [
    "dataset.columns"
   ]
  },
  {
   "cell_type": "code",
   "execution_count": 10,
   "metadata": {
    "scrolled": true
   },
   "outputs": [
    {
     "data": {
      "text/html": [
       "<div>\n",
       "<style scoped>\n",
       "    .dataframe tbody tr th:only-of-type {\n",
       "        vertical-align: middle;\n",
       "    }\n",
       "\n",
       "    .dataframe tbody tr th {\n",
       "        vertical-align: top;\n",
       "    }\n",
       "\n",
       "    .dataframe thead th {\n",
       "        text-align: right;\n",
       "    }\n",
       "</style>\n",
       "<table border=\"1\" class=\"dataframe\">\n",
       "  <thead>\n",
       "    <tr style=\"text-align: right;\">\n",
       "      <th></th>\n",
       "      <th>count</th>\n",
       "      <th>mean</th>\n",
       "      <th>std</th>\n",
       "      <th>min</th>\n",
       "      <th>25%</th>\n",
       "      <th>50%</th>\n",
       "      <th>75%</th>\n",
       "      <th>max</th>\n",
       "    </tr>\n",
       "  </thead>\n",
       "  <tbody>\n",
       "    <tr>\n",
       "      <th>Temp</th>\n",
       "      <td>115.0</td>\n",
       "      <td>29.600000</td>\n",
       "      <td>1.122341</td>\n",
       "      <td>28.0</td>\n",
       "      <td>29.000000</td>\n",
       "      <td>30.000000</td>\n",
       "      <td>31.000000</td>\n",
       "      <td>31.000000</td>\n",
       "    </tr>\n",
       "    <tr>\n",
       "      <th>Humidity</th>\n",
       "      <td>115.0</td>\n",
       "      <td>73.852174</td>\n",
       "      <td>2.947623</td>\n",
       "      <td>70.0</td>\n",
       "      <td>71.000000</td>\n",
       "      <td>74.000000</td>\n",
       "      <td>76.000000</td>\n",
       "      <td>79.000000</td>\n",
       "    </tr>\n",
       "    <tr>\n",
       "      <th>Cloud Cover</th>\n",
       "      <td>115.0</td>\n",
       "      <td>36.286957</td>\n",
       "      <td>4.330158</td>\n",
       "      <td>30.0</td>\n",
       "      <td>32.500000</td>\n",
       "      <td>36.000000</td>\n",
       "      <td>40.000000</td>\n",
       "      <td>44.000000</td>\n",
       "    </tr>\n",
       "    <tr>\n",
       "      <th>ANNUAL</th>\n",
       "      <td>115.0</td>\n",
       "      <td>2925.487826</td>\n",
       "      <td>422.112193</td>\n",
       "      <td>2068.8</td>\n",
       "      <td>2627.900000</td>\n",
       "      <td>2937.500000</td>\n",
       "      <td>3164.100000</td>\n",
       "      <td>4257.800000</td>\n",
       "    </tr>\n",
       "    <tr>\n",
       "      <th>Jan-Feb</th>\n",
       "      <td>115.0</td>\n",
       "      <td>27.739130</td>\n",
       "      <td>22.361032</td>\n",
       "      <td>0.3</td>\n",
       "      <td>10.250000</td>\n",
       "      <td>20.500000</td>\n",
       "      <td>41.600000</td>\n",
       "      <td>98.100000</td>\n",
       "    </tr>\n",
       "    <tr>\n",
       "      <th>Mar-May</th>\n",
       "      <td>115.0</td>\n",
       "      <td>377.253913</td>\n",
       "      <td>151.091850</td>\n",
       "      <td>89.9</td>\n",
       "      <td>276.750000</td>\n",
       "      <td>342.000000</td>\n",
       "      <td>442.300000</td>\n",
       "      <td>915.200000</td>\n",
       "    </tr>\n",
       "    <tr>\n",
       "      <th>Jun-Sep</th>\n",
       "      <td>115.0</td>\n",
       "      <td>2022.840870</td>\n",
       "      <td>386.254397</td>\n",
       "      <td>1104.3</td>\n",
       "      <td>1768.850000</td>\n",
       "      <td>1948.700000</td>\n",
       "      <td>2242.900000</td>\n",
       "      <td>3451.300000</td>\n",
       "    </tr>\n",
       "    <tr>\n",
       "      <th>Oct-Dec</th>\n",
       "      <td>115.0</td>\n",
       "      <td>497.636522</td>\n",
       "      <td>129.860643</td>\n",
       "      <td>166.6</td>\n",
       "      <td>407.450000</td>\n",
       "      <td>501.500000</td>\n",
       "      <td>584.550000</td>\n",
       "      <td>823.300000</td>\n",
       "    </tr>\n",
       "    <tr>\n",
       "      <th>avgjune</th>\n",
       "      <td>115.0</td>\n",
       "      <td>218.100870</td>\n",
       "      <td>62.547597</td>\n",
       "      <td>65.6</td>\n",
       "      <td>179.666667</td>\n",
       "      <td>211.033333</td>\n",
       "      <td>263.833333</td>\n",
       "      <td>366.066667</td>\n",
       "    </tr>\n",
       "    <tr>\n",
       "      <th>sub</th>\n",
       "      <td>115.0</td>\n",
       "      <td>439.801739</td>\n",
       "      <td>210.438813</td>\n",
       "      <td>34.2</td>\n",
       "      <td>295.000000</td>\n",
       "      <td>430.600000</td>\n",
       "      <td>577.650000</td>\n",
       "      <td>982.700000</td>\n",
       "    </tr>\n",
       "    <tr>\n",
       "      <th>flood</th>\n",
       "      <td>115.0</td>\n",
       "      <td>0.139130</td>\n",
       "      <td>0.347597</td>\n",
       "      <td>0.0</td>\n",
       "      <td>0.000000</td>\n",
       "      <td>0.000000</td>\n",
       "      <td>0.000000</td>\n",
       "      <td>1.000000</td>\n",
       "    </tr>\n",
       "  </tbody>\n",
       "</table>\n",
       "</div>"
      ],
      "text/plain": [
       "             count         mean         std     min          25%          50%  \\\n",
       "Temp         115.0    29.600000    1.122341    28.0    29.000000    30.000000   \n",
       "Humidity     115.0    73.852174    2.947623    70.0    71.000000    74.000000   \n",
       "Cloud Cover  115.0    36.286957    4.330158    30.0    32.500000    36.000000   \n",
       "ANNUAL       115.0  2925.487826  422.112193  2068.8  2627.900000  2937.500000   \n",
       "Jan-Feb      115.0    27.739130   22.361032     0.3    10.250000    20.500000   \n",
       "Mar-May      115.0   377.253913  151.091850    89.9   276.750000   342.000000   \n",
       "Jun-Sep      115.0  2022.840870  386.254397  1104.3  1768.850000  1948.700000   \n",
       "Oct-Dec      115.0   497.636522  129.860643   166.6   407.450000   501.500000   \n",
       "avgjune      115.0   218.100870   62.547597    65.6   179.666667   211.033333   \n",
       "sub          115.0   439.801739  210.438813    34.2   295.000000   430.600000   \n",
       "flood        115.0     0.139130    0.347597     0.0     0.000000     0.000000   \n",
       "\n",
       "                     75%          max  \n",
       "Temp           31.000000    31.000000  \n",
       "Humidity       76.000000    79.000000  \n",
       "Cloud Cover    40.000000    44.000000  \n",
       "ANNUAL       3164.100000  4257.800000  \n",
       "Jan-Feb        41.600000    98.100000  \n",
       "Mar-May       442.300000   915.200000  \n",
       "Jun-Sep      2242.900000  3451.300000  \n",
       "Oct-Dec       584.550000   823.300000  \n",
       "avgjune       263.833333   366.066667  \n",
       "sub           577.650000   982.700000  \n",
       "flood           0.000000     1.000000  "
      ]
     },
     "execution_count": 10,
     "metadata": {},
     "output_type": "execute_result"
    }
   ],
   "source": [
    "dataset.describe().T"
   ]
  },
  {
   "cell_type": "code",
   "execution_count": 11,
   "metadata": {},
   "outputs": [
    {
     "data": {
      "text/plain": [
       "Temp           False\n",
       "Humidity       False\n",
       "Cloud Cover    False\n",
       "ANNUAL         False\n",
       "Jan-Feb        False\n",
       "Mar-May        False\n",
       "Jun-Sep        False\n",
       "Oct-Dec        False\n",
       "avgjune        False\n",
       "sub            False\n",
       "flood          False\n",
       "dtype: bool"
      ]
     },
     "execution_count": 11,
     "metadata": {},
     "output_type": "execute_result"
    }
   ],
   "source": [
    "#checking null values\n",
    "dataset.isnull().any()"
   ]
  },
  {
   "cell_type": "code",
   "execution_count": 12,
   "metadata": {
    "scrolled": true
   },
   "outputs": [
    {
     "data": {
      "text/html": [
       "<div>\n",
       "<style scoped>\n",
       "    .dataframe tbody tr th:only-of-type {\n",
       "        vertical-align: middle;\n",
       "    }\n",
       "\n",
       "    .dataframe tbody tr th {\n",
       "        vertical-align: top;\n",
       "    }\n",
       "\n",
       "    .dataframe thead th {\n",
       "        text-align: right;\n",
       "    }\n",
       "</style>\n",
       "<table border=\"1\" class=\"dataframe\">\n",
       "  <thead>\n",
       "    <tr style=\"text-align: right;\">\n",
       "      <th></th>\n",
       "      <th>Temp</th>\n",
       "      <th>Humidity</th>\n",
       "      <th>Cloud Cover</th>\n",
       "      <th>ANNUAL</th>\n",
       "      <th>Jan-Feb</th>\n",
       "      <th>Mar-May</th>\n",
       "      <th>Jun-Sep</th>\n",
       "      <th>Oct-Dec</th>\n",
       "      <th>avgjune</th>\n",
       "      <th>sub</th>\n",
       "      <th>flood</th>\n",
       "    </tr>\n",
       "  </thead>\n",
       "  <tbody>\n",
       "    <tr>\n",
       "      <th>Temp</th>\n",
       "      <td>1.000000</td>\n",
       "      <td>-0.012727</td>\n",
       "      <td>-0.046568</td>\n",
       "      <td>-0.063014</td>\n",
       "      <td>-0.080076</td>\n",
       "      <td>0.099519</td>\n",
       "      <td>-0.081965</td>\n",
       "      <td>-0.063034</td>\n",
       "      <td>-0.019751</td>\n",
       "      <td>-0.088331</td>\n",
       "      <td>-0.080946</td>\n",
       "    </tr>\n",
       "    <tr>\n",
       "      <th>Humidity</th>\n",
       "      <td>-0.012727</td>\n",
       "      <td>1.000000</td>\n",
       "      <td>0.085824</td>\n",
       "      <td>-0.054767</td>\n",
       "      <td>-0.185965</td>\n",
       "      <td>-0.101232</td>\n",
       "      <td>-0.029583</td>\n",
       "      <td>0.059739</td>\n",
       "      <td>0.017656</td>\n",
       "      <td>0.029981</td>\n",
       "      <td>0.020250</td>\n",
       "    </tr>\n",
       "    <tr>\n",
       "      <th>Cloud Cover</th>\n",
       "      <td>-0.046568</td>\n",
       "      <td>0.085824</td>\n",
       "      <td>1.000000</td>\n",
       "      <td>0.051166</td>\n",
       "      <td>0.004376</td>\n",
       "      <td>0.096645</td>\n",
       "      <td>0.010833</td>\n",
       "      <td>0.020966</td>\n",
       "      <td>-0.089843</td>\n",
       "      <td>-0.106455</td>\n",
       "      <td>0.089801</td>\n",
       "    </tr>\n",
       "    <tr>\n",
       "      <th>ANNUAL</th>\n",
       "      <td>-0.063014</td>\n",
       "      <td>-0.054767</td>\n",
       "      <td>0.051166</td>\n",
       "      <td>1.000000</td>\n",
       "      <td>0.033639</td>\n",
       "      <td>0.387790</td>\n",
       "      <td>0.861190</td>\n",
       "      <td>0.232069</td>\n",
       "      <td>0.474644</td>\n",
       "      <td>0.220009</td>\n",
       "      <td>0.626874</td>\n",
       "    </tr>\n",
       "    <tr>\n",
       "      <th>Jan-Feb</th>\n",
       "      <td>-0.080076</td>\n",
       "      <td>-0.185965</td>\n",
       "      <td>0.004376</td>\n",
       "      <td>0.033639</td>\n",
       "      <td>1.000000</td>\n",
       "      <td>0.066479</td>\n",
       "      <td>0.001178</td>\n",
       "      <td>-0.143670</td>\n",
       "      <td>0.164691</td>\n",
       "      <td>0.201266</td>\n",
       "      <td>-0.084446</td>\n",
       "    </tr>\n",
       "    <tr>\n",
       "      <th>Mar-May</th>\n",
       "      <td>0.099519</td>\n",
       "      <td>-0.101232</td>\n",
       "      <td>0.096645</td>\n",
       "      <td>0.387790</td>\n",
       "      <td>0.066479</td>\n",
       "      <td>1.000000</td>\n",
       "      <td>-0.029007</td>\n",
       "      <td>0.171805</td>\n",
       "      <td>0.019183</td>\n",
       "      <td>-0.475750</td>\n",
       "      <td>-0.017598</td>\n",
       "    </tr>\n",
       "    <tr>\n",
       "      <th>Jun-Sep</th>\n",
       "      <td>-0.081965</td>\n",
       "      <td>-0.029583</td>\n",
       "      <td>0.010833</td>\n",
       "      <td>0.861190</td>\n",
       "      <td>0.001178</td>\n",
       "      <td>-0.029007</td>\n",
       "      <td>1.000000</td>\n",
       "      <td>-0.141467</td>\n",
       "      <td>0.511113</td>\n",
       "      <td>0.431997</td>\n",
       "      <td>0.705202</td>\n",
       "    </tr>\n",
       "    <tr>\n",
       "      <th>Oct-Dec</th>\n",
       "      <td>-0.063034</td>\n",
       "      <td>0.059739</td>\n",
       "      <td>0.020966</td>\n",
       "      <td>0.232069</td>\n",
       "      <td>-0.143670</td>\n",
       "      <td>0.171805</td>\n",
       "      <td>-0.141467</td>\n",
       "      <td>1.000000</td>\n",
       "      <td>-0.028055</td>\n",
       "      <td>-0.050862</td>\n",
       "      <td>-0.024852</td>\n",
       "    </tr>\n",
       "    <tr>\n",
       "      <th>avgjune</th>\n",
       "      <td>-0.019751</td>\n",
       "      <td>0.017656</td>\n",
       "      <td>-0.089843</td>\n",
       "      <td>0.474644</td>\n",
       "      <td>0.164691</td>\n",
       "      <td>0.019183</td>\n",
       "      <td>0.511113</td>\n",
       "      <td>-0.028055</td>\n",
       "      <td>1.000000</td>\n",
       "      <td>0.780445</td>\n",
       "      <td>0.379778</td>\n",
       "    </tr>\n",
       "    <tr>\n",
       "      <th>sub</th>\n",
       "      <td>-0.088331</td>\n",
       "      <td>0.029981</td>\n",
       "      <td>-0.106455</td>\n",
       "      <td>0.220009</td>\n",
       "      <td>0.201266</td>\n",
       "      <td>-0.475750</td>\n",
       "      <td>0.431997</td>\n",
       "      <td>-0.050862</td>\n",
       "      <td>0.780445</td>\n",
       "      <td>1.000000</td>\n",
       "      <td>0.349828</td>\n",
       "    </tr>\n",
       "    <tr>\n",
       "      <th>flood</th>\n",
       "      <td>-0.080946</td>\n",
       "      <td>0.020250</td>\n",
       "      <td>0.089801</td>\n",
       "      <td>0.626874</td>\n",
       "      <td>-0.084446</td>\n",
       "      <td>-0.017598</td>\n",
       "      <td>0.705202</td>\n",
       "      <td>-0.024852</td>\n",
       "      <td>0.379778</td>\n",
       "      <td>0.349828</td>\n",
       "      <td>1.000000</td>\n",
       "    </tr>\n",
       "  </tbody>\n",
       "</table>\n",
       "</div>"
      ],
      "text/plain": [
       "                 Temp  Humidity  Cloud Cover    ANNUAL   Jan-Feb   Mar-May  \\\n",
       "Temp         1.000000 -0.012727    -0.046568 -0.063014 -0.080076  0.099519   \n",
       "Humidity    -0.012727  1.000000     0.085824 -0.054767 -0.185965 -0.101232   \n",
       "Cloud Cover -0.046568  0.085824     1.000000  0.051166  0.004376  0.096645   \n",
       "ANNUAL      -0.063014 -0.054767     0.051166  1.000000  0.033639  0.387790   \n",
       "Jan-Feb     -0.080076 -0.185965     0.004376  0.033639  1.000000  0.066479   \n",
       "Mar-May      0.099519 -0.101232     0.096645  0.387790  0.066479  1.000000   \n",
       "Jun-Sep     -0.081965 -0.029583     0.010833  0.861190  0.001178 -0.029007   \n",
       "Oct-Dec     -0.063034  0.059739     0.020966  0.232069 -0.143670  0.171805   \n",
       "avgjune     -0.019751  0.017656    -0.089843  0.474644  0.164691  0.019183   \n",
       "sub         -0.088331  0.029981    -0.106455  0.220009  0.201266 -0.475750   \n",
       "flood       -0.080946  0.020250     0.089801  0.626874 -0.084446 -0.017598   \n",
       "\n",
       "              Jun-Sep   Oct-Dec   avgjune       sub     flood  \n",
       "Temp        -0.081965 -0.063034 -0.019751 -0.088331 -0.080946  \n",
       "Humidity    -0.029583  0.059739  0.017656  0.029981  0.020250  \n",
       "Cloud Cover  0.010833  0.020966 -0.089843 -0.106455  0.089801  \n",
       "ANNUAL       0.861190  0.232069  0.474644  0.220009  0.626874  \n",
       "Jan-Feb      0.001178 -0.143670  0.164691  0.201266 -0.084446  \n",
       "Mar-May     -0.029007  0.171805  0.019183 -0.475750 -0.017598  \n",
       "Jun-Sep      1.000000 -0.141467  0.511113  0.431997  0.705202  \n",
       "Oct-Dec     -0.141467  1.000000 -0.028055 -0.050862 -0.024852  \n",
       "avgjune      0.511113 -0.028055  1.000000  0.780445  0.379778  \n",
       "sub          0.431997 -0.050862  0.780445  1.000000  0.349828  \n",
       "flood        0.705202 -0.024852  0.379778  0.349828  1.000000  "
      ]
     },
     "execution_count": 12,
     "metadata": {},
     "output_type": "execute_result"
    }
   ],
   "source": [
    "#Correlation\n",
    "dataset.corr()"
   ]
  },
  {
   "cell_type": "code",
   "execution_count": 13,
   "metadata": {},
   "outputs": [
    {
     "data": {
      "image/png": "[encoded data removed]",
      "text/plain": [
       "<Figure size 1080x1080 with 2 Axes>"
      ]
     },
     "metadata": {
      "needs_background": "light"
     },
     "output_type": "display_data"
    }
   ],
   "source": [
    "import seaborn as sns\n",
    "fig=plt.gcf()\n",
    "fig.set_size_inches(15,15)\n",
    "fig=sns.heatmap(dataset.corr(),annot=True,cmap='summer',\n",
    "                linewidths=1,linecolor='k',square=True,\n",
    "                mask=False, vmin=-1, vmax=1,\n",
    "                cbar_kws={\"orientation\": \"vertical\"},cbar=True)"
   ]
  },
  {
   "cell_type": "code",
   "execution_count": 14,
   "metadata": {},
   "outputs": [],
   "source": [
    "dataset.drop([\"Oct-Dec\"],axis=1,inplace=True)"
   ]
  },
  {
   "cell_type": "code",
   "execution_count": 15,
   "metadata": {},
   "outputs": [
    {
     "data": {
      "text/html": [
       "<div>\n",
       "<style scoped>\n",
       "    .dataframe tbody tr th:only-of-type {\n",
       "        vertical-align: middle;\n",
       "    }\n",
       "\n",
       "    .dataframe tbody tr th {\n",
       "        vertical-align: top;\n",
       "    }\n",
       "\n",
       "    .dataframe thead th {\n",
       "        text-align: right;\n",
       "    }\n",
       "</style>\n",
       "<table border=\"1\" class=\"dataframe\">\n",
       "  <thead>\n",
       "    <tr style=\"text-align: right;\">\n",
       "      <th></th>\n",
       "      <th>Temp</th>\n",
       "      <th>Humidity</th>\n",
       "      <th>Cloud Cover</th>\n",
       "      <th>ANNUAL</th>\n",
       "      <th>Jan-Feb</th>\n",
       "      <th>Mar-May</th>\n",
       "      <th>Jun-Sep</th>\n",
       "      <th>avgjune</th>\n",
       "      <th>sub</th>\n",
       "      <th>flood</th>\n",
       "    </tr>\n",
       "  </thead>\n",
       "  <tbody>\n",
       "    <tr>\n",
       "      <th>0</th>\n",
       "      <td>29</td>\n",
       "      <td>70</td>\n",
       "      <td>30</td>\n",
       "      <td>3248.6</td>\n",
       "      <td>73.4</td>\n",
       "      <td>386.2</td>\n",
       "      <td>2122.8</td>\n",
       "      <td>274.866667</td>\n",
       "      <td>649.9</td>\n",
       "      <td>0</td>\n",
       "    </tr>\n",
       "    <tr>\n",
       "      <th>1</th>\n",
       "      <td>28</td>\n",
       "      <td>75</td>\n",
       "      <td>40</td>\n",
       "      <td>3326.6</td>\n",
       "      <td>9.3</td>\n",
       "      <td>275.7</td>\n",
       "      <td>2403.4</td>\n",
       "      <td>130.300000</td>\n",
       "      <td>256.4</td>\n",
       "      <td>1</td>\n",
       "    </tr>\n",
       "    <tr>\n",
       "      <th>2</th>\n",
       "      <td>28</td>\n",
       "      <td>75</td>\n",
       "      <td>42</td>\n",
       "      <td>3271.2</td>\n",
       "      <td>21.7</td>\n",
       "      <td>336.3</td>\n",
       "      <td>2343.0</td>\n",
       "      <td>186.200000</td>\n",
       "      <td>308.9</td>\n",
       "      <td>0</td>\n",
       "    </tr>\n",
       "    <tr>\n",
       "      <th>3</th>\n",
       "      <td>29</td>\n",
       "      <td>71</td>\n",
       "      <td>44</td>\n",
       "      <td>3129.7</td>\n",
       "      <td>26.7</td>\n",
       "      <td>339.4</td>\n",
       "      <td>2398.2</td>\n",
       "      <td>366.066667</td>\n",
       "      <td>862.5</td>\n",
       "      <td>0</td>\n",
       "    </tr>\n",
       "    <tr>\n",
       "      <th>4</th>\n",
       "      <td>31</td>\n",
       "      <td>74</td>\n",
       "      <td>40</td>\n",
       "      <td>2741.6</td>\n",
       "      <td>23.4</td>\n",
       "      <td>378.5</td>\n",
       "      <td>1881.5</td>\n",
       "      <td>283.400000</td>\n",
       "      <td>586.9</td>\n",
       "      <td>0</td>\n",
       "    </tr>\n",
       "  </tbody>\n",
       "</table>\n",
       "</div>"
      ],
      "text/plain": [
       "   Temp  Humidity  Cloud Cover  ANNUAL  Jan-Feb  Mar-May  Jun-Sep     avgjune  \\\n",
       "0    29        70           30  3248.6     73.4    386.2   2122.8  274.866667   \n",
       "1    28        75           40  3326.6      9.3    275.7   2403.4  130.300000   \n",
       "2    28        75           42  3271.2     21.7    336.3   2343.0  186.200000   \n",
       "3    29        71           44  3129.7     26.7    339.4   2398.2  366.066667   \n",
       "4    31        74           40  2741.6     23.4    378.5   1881.5  283.400000   \n",
       "\n",
       "     sub  flood  \n",
       "0  649.9      0  \n",
       "1  256.4      1  \n",
       "2  308.9      0  \n",
       "3  862.5      0  \n",
       "4  586.9      0  "
      ]
     },
     "execution_count": 15,
     "metadata": {},
     "output_type": "execute_result"
    }
   ],
   "source": [
    "dataset.head()"
   ]
  },
  {
   "cell_type": "code",
   "execution_count": 16,
   "metadata": {},
   "outputs": [
    {
     "data": {
      "text/plain": [
       "0    99\n",
       "1    16\n",
       "Name: flood, dtype: int64"
      ]
     },
     "execution_count": 16,
     "metadata": {},
     "output_type": "execute_result"
    }
   ],
   "source": [
    "dataset['flood'].value_counts()"
   ]
  },
  {
   "cell_type": "code",
   "execution_count": 17,
   "metadata": {},
   "outputs": [],
   "source": [
    "#independent features\n",
    "x=dataset.iloc[:,2:7].values"
   ]
  },
  {
   "cell_type": "code",
   "execution_count": 18,
   "metadata": {},
   "outputs": [],
   "source": [
    "#dependent feature\n",
    "y=dataset.iloc[:,9:].values"
   ]
  },
  {
   "cell_type": "code",
   "execution_count": 19,
   "metadata": {},
   "outputs": [
    {
     "data": {
      "text/plain": [
       "(115, 5)"
      ]
     },
     "execution_count": 19,
     "metadata": {},
     "output_type": "execute_result"
    }
   ],
   "source": [
    "x.shape"
   ]
  },
  {
   "cell_type": "code",
   "execution_count": 20,
   "metadata": {},
   "outputs": [
    {
     "data": {
      "text/plain": [
       "(115, 1)"
      ]
     },
     "execution_count": 20,
     "metadata": {},
     "output_type": "execute_result"
    }
   ],
   "source": [
    "y.shape"
   ]
  },
  {
   "cell_type": "code",
   "execution_count": 21,
   "metadata": {},
   "outputs": [],
   "source": [
    "#split the data into train and test set from our x and y\n",
    "#import train_test_split fucntion\n",
    "from sklearn.model_selection import train_test_split\n",
    "x_train,x_test,y_train,y_test = train_test_split(x,y,test_size=0.25,random_state=10)"
   ]
  },
  {
   "cell_type": "code",
   "execution_count": 22,
   "metadata": {},
   "outputs": [
    {
     "name": "stdout",
     "output_type": "stream",
     "text": [
      "(86, 5)\n",
      "(29, 5)\n",
      "(86, 1)\n",
      "(29, 1)\n"
     ]
    }
   ],
   "source": [
    "#checking the shape of our 4 variables\n",
    "print(x_train.shape)\n",
    "print(x_test.shape)\n",
    "print(y_train.shape)\n",
    "print(y_test.shape)"
   ]
  },
  {
   "cell_type": "code",
   "execution_count": 23,
   "metadata": {},
   "outputs": [],
   "source": [
    "#import Standardscaler\n",
    "from sklearn.preprocessing import StandardScaler\n",
    "#create object to Standardscaler class\n",
    "sc=StandardScaler()\n",
    "x_train=sc.fit_transform(x_train)\n",
    "x_test=sc.fit_transform(x_test)"
   ]
  },
  {
   "cell_type": "code",
   "execution_count": 24,
   "metadata": {},
   "outputs": [
    {
     "data": {
      "text/plain": [
       "['transform.save']"
      ]
     },
     "execution_count": 24,
     "metadata": {},
     "output_type": "execute_result"
    }
   ],
   "source": [
    "#import dump class from joblib\n",
    "from joblib import dump\n",
    "dump(sc,\"transform.save\")"
   ]
  },
  {
   "cell_type": "code",
   "execution_count": 25,
   "metadata": {},
   "outputs": [],
   "source": [
    "#pip install xgboost\n",
    "\n",
    "#import xgboost\n",
    "import xgboost as xgb\n",
    "#hyper parameter tuning to xgboost\n",
    "xg_cla = xgb.XGBClassifier(objective ='reg:linear',learning_rate = 0.1,\n",
    "                max_depth = 5, n_estimators = 10)"
   ]
  },
  {
   "cell_type": "code",
   "execution_count": 26,
   "metadata": {},
   "outputs": [
    {
     "name": "stdout",
     "output_type": "stream",
     "text": [
      "[12:57:21] WARNING: C:/Users/Administrator/workspace/xgboost-win64_release_1.5.1/src/objective/regression_obj.cu:188: reg:linear is now deprecated in favor of reg:squarederror.\n"
     ]
    },
    {
     "name": "stderr",
     "output_type": "stream",
     "text": [
      "C:\\Users\\acer\\Anaconda3\\lib\\site-packages\\xgboost\\sklearn.py:1224: UserWarning: The use of label encoder in XGBClassifier is deprecated and will be removed in a future release. To remove this warning, do the following: 1) Pass option use_label_encoder=False when constructing XGBClassifier object; and 2) Encode your labels (y) as integers starting with 0, i.e. 0, 1, 2, ..., [num_class - 1].\n",
      "  warnings.warn(label_encoder_deprecation_msg, UserWarning)\n",
      "C:\\Users\\acer\\Anaconda3\\lib\\site-packages\\sklearn\\preprocessing\\label.py:219: DataConversionWarning: A column-vector y was passed when a 1d array was expected. Please change the shape of y to (n_samples, ), for example using ravel().\n",
      "  y = column_or_1d(y, warn=True)\n",
      "C:\\Users\\acer\\Anaconda3\\lib\\site-packages\\sklearn\\preprocessing\\label.py:252: DataConversionWarning: A column-vector y was passed when a 1d array was expected. Please change the shape of y to (n_samples, ), for example using ravel().\n",
      "  y = column_or_1d(y, warn=True)\n"
     ]
    },
    {
     "data": {
      "text/plain": [
       "XGBClassifier(base_score=0.5, booster='gbtree', colsample_bylevel=1,\n",
       "              colsample_bynode=1, colsample_bytree=1, enable_categorical=False,\n",
       "              gamma=0, gpu_id=-1, importance_type=None,\n",
       "              interaction_constraints='', learning_rate=0.1, max_delta_step=0,\n",
       "              max_depth=5, min_child_weight=1, missing=nan,\n",
       "              monotone_constraints='()', n_estimators=10, n_jobs=4,\n",
       "              num_parallel_tree=1, objective='reg:linear', predictor='auto',\n",
       "              random_state=0, reg_alpha=0, reg_lambda=1, scale_pos_weight=1,\n",
       "              subsample=1, tree_method='exact', use_label_encoder=True,\n",
       "              validate_parameters=1, verbosity=None)"
      ]
     },
     "execution_count": 26,
     "metadata": {},
     "output_type": "execute_result"
    }
   ],
   "source": [
    "#fit the model\n",
    "xg_cla.fit(x_train,y_train)"
   ]
  },
  {
   "cell_type": "code",
   "execution_count": 27,
   "metadata": {},
   "outputs": [
    {
     "data": {
      "text/plain": [
       "array([1, 0, 0, 0, 0, 0, 0, 1, 0, 0, 0, 0, 0, 0, 0, 1, 0, 0, 0, 0, 1, 0,\n",
       "       0, 0, 0, 0, 0, 0, 0], dtype=int64)"
      ]
     },
     "execution_count": 27,
     "metadata": {},
     "output_type": "execute_result"
    }
   ],
   "source": [
    "#predictions with unseen data by model\n",
    "y_pred_xgb = xg_cla.predict(x_test)\n",
    "y_pred_xgb"
   ]
  },
  {
   "cell_type": "code",
   "execution_count": 28,
   "metadata": {},
   "outputs": [
    {
     "data": {
      "text/plain": [
       "0.9655172413793104"
      ]
     },
     "execution_count": 28,
     "metadata": {},
     "output_type": "execute_result"
    }
   ],
   "source": [
    "#checking the accuracy score\n",
    "from sklearn.metrics import accuracy_score,confusion_matrix\n",
    "acc=accuracy_score(y_test,y_pred_xgb)\n",
    "acc\n"
   ]
  },
  {
   "cell_type": "code",
   "execution_count": 29,
   "metadata": {},
   "outputs": [
    {
     "data": {
      "text/plain": [
       "array([[25,  1],\n",
       "       [ 0,  3]], dtype=int64)"
      ]
     },
     "execution_count": 29,
     "metadata": {},
     "output_type": "execute_result"
    }
   ],
   "source": [
    "#summary of predictions\n",
    "cm2=confusion_matrix(y_test,y_pred_xgb)\n",
    "cm2"
   ]
  },
  {
   "cell_type": "code",
   "execution_count": 30,
   "metadata": {},
   "outputs": [
    {
     "data": {
      "text/plain": [
       "(29,)"
      ]
     },
     "execution_count": 30,
     "metadata": {},
     "output_type": "execute_result"
    }
   ],
   "source": [
    "y_pred_xgb.shape"
   ]
  },
  {
   "cell_type": "code",
   "execution_count": 31,
   "metadata": {},
   "outputs": [
    {
     "name": "stdout",
     "output_type": "stream",
     "text": [
      "RMSE: 0.185695\n"
     ]
    }
   ],
   "source": [
    "from sklearn.metrics import mean_squared_error\n",
    "rmse = np.sqrt(mean_squared_error(y_test, y_pred_xgb))\n",
    "print(\"RMSE: %f\" % (rmse))"
   ]
  },
  {
   "cell_type": "code",
   "execution_count": 32,
   "metadata": {},
   "outputs": [
    {
     "data": {
      "text/html": [
       "<div>\n",
       "<style scoped>\n",
       "    .dataframe tbody tr th:only-of-type {\n",
       "        vertical-align: middle;\n",
       "    }\n",
       "\n",
       "    .dataframe tbody tr th {\n",
       "        vertical-align: top;\n",
       "    }\n",
       "\n",
       "    .dataframe thead th {\n",
       "        text-align: right;\n",
       "    }\n",
       "</style>\n",
       "<table border=\"1\" class=\"dataframe\">\n",
       "  <thead>\n",
       "    <tr style=\"text-align: right;\">\n",
       "      <th></th>\n",
       "      <th>Temp</th>\n",
       "      <th>Humidity</th>\n",
       "      <th>Cloud Cover</th>\n",
       "      <th>ANNUAL</th>\n",
       "      <th>Jan-Feb</th>\n",
       "      <th>Mar-May</th>\n",
       "      <th>Jun-Sep</th>\n",
       "      <th>avgjune</th>\n",
       "      <th>sub</th>\n",
       "      <th>flood</th>\n",
       "    </tr>\n",
       "  </thead>\n",
       "  <tbody>\n",
       "    <tr>\n",
       "      <th>0</th>\n",
       "      <td>29</td>\n",
       "      <td>70</td>\n",
       "      <td>30</td>\n",
       "      <td>3248.6</td>\n",
       "      <td>73.4</td>\n",
       "      <td>386.2</td>\n",
       "      <td>2122.8</td>\n",
       "      <td>274.866667</td>\n",
       "      <td>649.9</td>\n",
       "      <td>0</td>\n",
       "    </tr>\n",
       "    <tr>\n",
       "      <th>1</th>\n",
       "      <td>28</td>\n",
       "      <td>75</td>\n",
       "      <td>40</td>\n",
       "      <td>3326.6</td>\n",
       "      <td>9.3</td>\n",
       "      <td>275.7</td>\n",
       "      <td>2403.4</td>\n",
       "      <td>130.300000</td>\n",
       "      <td>256.4</td>\n",
       "      <td>1</td>\n",
       "    </tr>\n",
       "    <tr>\n",
       "      <th>2</th>\n",
       "      <td>28</td>\n",
       "      <td>75</td>\n",
       "      <td>42</td>\n",
       "      <td>3271.2</td>\n",
       "      <td>21.7</td>\n",
       "      <td>336.3</td>\n",
       "      <td>2343.0</td>\n",
       "      <td>186.200000</td>\n",
       "      <td>308.9</td>\n",
       "      <td>0</td>\n",
       "    </tr>\n",
       "    <tr>\n",
       "      <th>3</th>\n",
       "      <td>29</td>\n",
       "      <td>71</td>\n",
       "      <td>44</td>\n",
       "      <td>3129.7</td>\n",
       "      <td>26.7</td>\n",
       "      <td>339.4</td>\n",
       "      <td>2398.2</td>\n",
       "      <td>366.066667</td>\n",
       "      <td>862.5</td>\n",
       "      <td>0</td>\n",
       "    </tr>\n",
       "    <tr>\n",
       "      <th>4</th>\n",
       "      <td>31</td>\n",
       "      <td>74</td>\n",
       "      <td>40</td>\n",
       "      <td>2741.6</td>\n",
       "      <td>23.4</td>\n",
       "      <td>378.5</td>\n",
       "      <td>1881.5</td>\n",
       "      <td>283.400000</td>\n",
       "      <td>586.9</td>\n",
       "      <td>0</td>\n",
       "    </tr>\n",
       "  </tbody>\n",
       "</table>\n",
       "</div>"
      ],
      "text/plain": [
       "   Temp  Humidity  Cloud Cover  ANNUAL  Jan-Feb  Mar-May  Jun-Sep     avgjune  \\\n",
       "0    29        70           30  3248.6     73.4    386.2   2122.8  274.866667   \n",
       "1    28        75           40  3326.6      9.3    275.7   2403.4  130.300000   \n",
       "2    28        75           42  3271.2     21.7    336.3   2343.0  186.200000   \n",
       "3    29        71           44  3129.7     26.7    339.4   2398.2  366.066667   \n",
       "4    31        74           40  2741.6     23.4    378.5   1881.5  283.400000   \n",
       "\n",
       "     sub  flood  \n",
       "0  649.9      0  \n",
       "1  256.4      1  \n",
       "2  308.9      0  \n",
       "3  862.5      0  \n",
       "4  586.9      0  "
      ]
     },
     "execution_count": 32,
     "metadata": {},
     "output_type": "execute_result"
    }
   ],
   "source": [
    "dataset.head()"
   ]
  },
  {
   "cell_type": "code",
   "execution_count": 33,
   "metadata": {},
   "outputs": [
    {
     "data": {
      "text/plain": [
       "array([0], dtype=int64)"
      ]
     },
     "execution_count": 33,
     "metadata": {},
     "output_type": "execute_result"
    }
   ],
   "source": [
    "rand_pred = xg_cla.predict(sc.transform([[30,3248.6,73.4,386.2,2122.8]]))\n",
    "rand_pred"
   ]
  },
  {
   "cell_type": "code",
   "execution_count": 34,
   "metadata": {},
   "outputs": [
    {
     "data": {
      "text/plain": [
       "array([1], dtype=int64)"
      ]
     },
     "execution_count": 34,
     "metadata": {},
     "output_type": "execute_result"
    }
   ],
   "source": [
    "rand_pred1 = xg_cla.predict(sc.transform([[40,3326.6,9.3,275.7,2403.4]]))\n",
    "rand_pred1"
   ]
  },
  {
   "cell_type": "code",
   "execution_count": 35,
   "metadata": {},
   "outputs": [],
   "source": [
    "data_dmatrix = xgb.DMatrix(data=x,label=y)"
   ]
  },
  {
   "cell_type": "code",
   "execution_count": 36,
   "metadata": {},
   "outputs": [
    {
     "name": "stdout",
     "output_type": "stream",
     "text": [
      "[12:57:35] WARNING: C:/Users/Administrator/workspace/xgboost-win64_release_1.5.1/src/objective/regression_obj.cu:188: reg:linear is now deprecated in favor of reg:squarederror.\n",
      "[12:57:35] WARNING: C:/Users/Administrator/workspace/xgboost-win64_release_1.5.1/src/objective/regression_obj.cu:188: reg:linear is now deprecated in favor of reg:squarederror.\n",
      "[12:57:35] WARNING: C:/Users/Administrator/workspace/xgboost-win64_release_1.5.1/src/objective/regression_obj.cu:188: reg:linear is now deprecated in favor of reg:squarederror.\n"
     ]
    }
   ],
   "source": [
    "params = {\"objective\":\"reg:linear\",'colsample_bytree': 0.3,'learning_rate': 0.1,\n",
    "                'max_depth': 5, 'alpha': 10}\n",
    "\n",
    "cv_results = xgb.cv(dtrain=data_dmatrix, params=params, nfold=3,\n",
    "                    num_boost_round=50,early_stopping_rounds=10,metrics=\"rmse\", as_pandas=True, seed=123)"
   ]
  },
  {
   "cell_type": "code",
   "execution_count": 37,
   "metadata": {},
   "outputs": [
    {
     "data": {
      "text/html": [
       "<div>\n",
       "<style scoped>\n",
       "    .dataframe tbody tr th:only-of-type {\n",
       "        vertical-align: middle;\n",
       "    }\n",
       "\n",
       "    .dataframe tbody tr th {\n",
       "        vertical-align: top;\n",
       "    }\n",
       "\n",
       "    .dataframe thead th {\n",
       "        text-align: right;\n",
       "    }\n",
       "</style>\n",
       "<table border=\"1\" class=\"dataframe\">\n",
       "  <thead>\n",
       "    <tr style=\"text-align: right;\">\n",
       "      <th></th>\n",
       "      <th>train-rmse-mean</th>\n",
       "      <th>train-rmse-std</th>\n",
       "      <th>test-rmse-mean</th>\n",
       "      <th>test-rmse-std</th>\n",
       "    </tr>\n",
       "  </thead>\n",
       "  <tbody>\n",
       "    <tr>\n",
       "      <th>0</th>\n",
       "      <td>0.483268</td>\n",
       "      <td>0.006576</td>\n",
       "      <td>0.485071</td>\n",
       "      <td>0.002133</td>\n",
       "    </tr>\n",
       "    <tr>\n",
       "      <th>1</th>\n",
       "      <td>0.463432</td>\n",
       "      <td>0.011184</td>\n",
       "      <td>0.467149</td>\n",
       "      <td>0.010004</td>\n",
       "    </tr>\n",
       "    <tr>\n",
       "      <th>2</th>\n",
       "      <td>0.450748</td>\n",
       "      <td>0.015905</td>\n",
       "      <td>0.456278</td>\n",
       "      <td>0.012084</td>\n",
       "    </tr>\n",
       "    <tr>\n",
       "      <th>3</th>\n",
       "      <td>0.434753</td>\n",
       "      <td>0.015569</td>\n",
       "      <td>0.441904</td>\n",
       "      <td>0.016987</td>\n",
       "    </tr>\n",
       "    <tr>\n",
       "      <th>4</th>\n",
       "      <td>0.420652</td>\n",
       "      <td>0.017029</td>\n",
       "      <td>0.429317</td>\n",
       "      <td>0.023831</td>\n",
       "    </tr>\n",
       "  </tbody>\n",
       "</table>\n",
       "</div>"
      ],
      "text/plain": [
       "   train-rmse-mean  train-rmse-std  test-rmse-mean  test-rmse-std\n",
       "0         0.483268        0.006576        0.485071       0.002133\n",
       "1         0.463432        0.011184        0.467149       0.010004\n",
       "2         0.450748        0.015905        0.456278       0.012084\n",
       "3         0.434753        0.015569        0.441904       0.016987\n",
       "4         0.420652        0.017029        0.429317       0.023831"
      ]
     },
     "execution_count": 37,
     "metadata": {},
     "output_type": "execute_result"
    }
   ],
   "source": [
    "cv_results.head()"
   ]
  },
  {
   "cell_type": "code",
   "execution_count": 38,
   "metadata": {},
   "outputs": [
    {
     "name": "stdout",
     "output_type": "stream",
     "text": [
      "[12:57:41] WARNING: C:/Users/Administrator/workspace/xgboost-win64_release_1.5.1/src/objective/regression_obj.cu:188: reg:linear is now deprecated in favor of reg:squarederror.\n"
     ]
    }
   ],
   "source": [
    "xg_cla_model = xgb.train(params=params, dtrain=data_dmatrix, num_boost_round=10)"
   ]
  },
  {
   "cell_type": "code",
   "execution_count": null,
   "metadata": {},
   "outputs": [],
   "source": []
  },
  {
   "cell_type": "code",
   "execution_count": 39,
   "metadata": {},
   "outputs": [],
   "source": [
    "#import matplotlib.pyplot as plt\n",
    "\n",
    "#xgb.plot_tree(xg_cla_model,num_trees=0)\n",
    "#plt.rcParams['figure.figsize'] = [15,15]\n",
    "#plt.show()"
   ]
  },
  {
   "cell_type": "code",
   "execution_count": 40,
   "metadata": {},
   "outputs": [
    {
     "data": {
      "text/plain": [
       "DecisionTreeClassifier(class_weight=None, criterion='gini', max_depth=None,\n",
       "                       max_features=None, max_leaf_nodes=None,\n",
       "                       min_impurity_decrease=0.0, min_impurity_split=None,\n",
       "                       min_samples_leaf=1, min_samples_split=2,\n",
       "                       min_weight_fraction_leaf=0.0, presort=False,\n",
       "                       random_state=None, splitter='best')"
      ]
     },
     "execution_count": 40,
     "metadata": {},
     "output_type": "execute_result"
    }
   ],
   "source": [
    "from sklearn.tree import DecisionTreeClassifier\n",
    "dtc = DecisionTreeClassifier()\n",
    "dtc.fit(x_train,y_train)"
   ]
  },
  {
   "cell_type": "code",
   "execution_count": 41,
   "metadata": {},
   "outputs": [
    {
     "data": {
      "text/plain": [
       "array([1, 0, 0, 0, 0, 0, 0, 1, 0, 0, 0, 0, 0, 0, 0, 1, 0, 0, 0, 0, 1, 0,\n",
       "       0, 0, 0, 0, 0, 0, 0], dtype=int64)"
      ]
     },
     "execution_count": 41,
     "metadata": {},
     "output_type": "execute_result"
    }
   ],
   "source": [
    "y_predict = dtc.predict(x_test)\n",
    "y_predict"
   ]
  },
  {
   "cell_type": "code",
   "execution_count": 42,
   "metadata": {},
   "outputs": [],
   "source": [
    "from sklearn.metrics import accuracy_score,confusion_matrix"
   ]
  },
  {
   "cell_type": "code",
   "execution_count": 43,
   "metadata": {},
   "outputs": [
    {
     "data": {
      "text/plain": [
       "0.9655172413793104"
      ]
     },
     "execution_count": 43,
     "metadata": {},
     "output_type": "execute_result"
    }
   ],
   "source": [
    "acc=accuracy_score(y_test,y_predict)\n",
    "acc"
   ]
  },
  {
   "cell_type": "code",
   "execution_count": 44,
   "metadata": {},
   "outputs": [
    {
     "data": {
      "text/plain": [
       "0.9655172413793104"
      ]
     },
     "execution_count": 44,
     "metadata": {},
     "output_type": "execute_result"
    }
   ],
   "source": [
    "acc=accuracy_score(y_test,y_pred_xgb)\n",
    "acc"
   ]
  },
  {
   "cell_type": "code",
   "execution_count": 45,
   "metadata": {},
   "outputs": [
    {
     "data": {
      "text/plain": [
       "array([[25,  1],\n",
       "       [ 0,  3]], dtype=int64)"
      ]
     },
     "execution_count": 45,
     "metadata": {},
     "output_type": "execute_result"
    }
   ],
   "source": [
    "cm1=confusion_matrix(y_test,y_predict)\n",
    "cm1"
   ]
  },
  {
   "cell_type": "code",
   "execution_count": 46,
   "metadata": {},
   "outputs": [
    {
     "data": {
      "text/plain": [
       "array([[25,  1],\n",
       "       [ 0,  3]], dtype=int64)"
      ]
     },
     "execution_count": 46,
     "metadata": {},
     "output_type": "execute_result"
    }
   ],
   "source": [
    "cm2=confusion_matrix(y_test,y_pred_xgb)\n",
    "cm2"
   ]
  },
  {
   "cell_type": "code",
   "execution_count": 47,
   "metadata": {},
   "outputs": [
    {
     "data": {
      "text/plain": [
       "['floods.save']"
      ]
     },
     "execution_count": 47,
     "metadata": {},
     "output_type": "execute_result"
    }
   ],
   "source": [
    "#saving the file\n",
    "from joblib import dump\n",
    "dump(xg_cla,'floods.save')"
   ]
  },
  {
   "cell_type": "code",
   "execution_count": null,
   "metadata": {},
   "outputs": [],
   "source": []
  },
  {
   "cell_type": "code",
   "execution_count": null,
   "metadata": {},
   "outputs": [],
   "source": []
  },
  {
   "cell_type": "code",
   "execution_count": null,
   "metadata": {},
   "outputs": [],
   "source": []
  },
  {
   "cell_type": "code",
   "execution_count": null,
   "metadata": {},
   "outputs": [],
   "source": []
  }
 ],
 "metadata": {
  "kernelspec": {
   "display_name": "Python 3",
   "language": "python",
   "name": "python3"
  },
  "language_info": {
   "codemirror_mode": {
    "name": "ipython",
    "version": 3
   },
   "file_extension": ".py",
   "mimetype": "text/x-python",
   "name": "python",
   "nbconvert_exporter": "python",
   "pygments_lexer": "ipython3",
   "version": "3.7.3"
  }
 },
 "nbformat": 4,
 "nbformat_minor": 4
}
